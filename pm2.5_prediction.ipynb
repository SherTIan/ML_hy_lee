{
 "cells": [
  {
   "cell_type": "code",
   "execution_count": 25,
   "metadata": {},
   "outputs": [],
   "source": [
    "import pandas as pd\n",
    "import numpy as np\n",
    "from sklearn.metrics import r2_score\n",
    "import math"
   ]
  },
  {
   "cell_type": "code",
   "execution_count": 15,
   "metadata": {},
   "outputs": [],
   "source": [
    "train=pd.read_csv(\"train.csv\");"
   ]
  },
  {
   "cell_type": "code",
   "execution_count": 16,
   "metadata": {},
   "outputs": [
    {
     "name": "stderr",
     "output_type": "stream",
     "text": [
      "D:\\Anaconda3\\lib\\site-packages\\pandas\\core\\frame.py:3697: SettingWithCopyWarning: \n",
      "A value is trying to be set on a copy of a slice from a DataFrame\n",
      "\n",
      "See the caveats in the documentation: http://pandas.pydata.org/pandas-docs/stable/indexing.html#indexing-view-versus-copy\n",
      "  errors=errors)\n"
     ]
    }
   ],
   "source": [
    "pm=train[train[\"observation\"]==\"PM2.5\"]\n",
    "pm.drop(['Date','stations','observation'],axis=1,inplace=True)"
   ]
  },
  {
   "cell_type": "code",
   "execution_count": 17,
   "metadata": {},
   "outputs": [],
   "source": [
    "x=[]\n",
    "y=[]\n",
    "for i in range(15):\n",
    "    temx=pm.iloc[:,i:i+9]\n",
    "    temx.columns=np.array(range(9))\n",
    "    temy=pm.iloc[:,i+9]\n",
    "    temy.columns=np.array(range(1))\n",
    "    x.append(temx)\n",
    "    y.append(temy)"
   ]
  },
  {
   "cell_type": "code",
   "execution_count": 18,
   "metadata": {},
   "outputs": [],
   "source": [
    "x=pd.concat(x)\n",
    "y=pd.concat(y)\n",
    "x=np.array(x,float)\n",
    "y=np.array(y,float)\n",
    "np.save(\"x.npy\",x)\n",
    "np.save(\"y.npy\",y)"
   ]
  },
  {
   "cell_type": "code",
   "execution_count": 19,
   "metadata": {},
   "outputs": [],
   "source": [
    "#adding baias\n",
    "x = np.concatenate((np.ones((x.shape[0],1)),x), axis=1)\n",
    "#init \n",
    "w = np.zeros(len(x[0]))\n",
    "l_rate = 0.1\n",
    "repeat = 10000\n",
    "s_grad=np.zeros(len(x[0]))\n",
    "x_t=x.transpose()"
   ]
  },
  {
   "cell_type": "code",
   "execution_count": 20,
   "metadata": {},
   "outputs": [],
   "source": [
    "# train\n",
    "for i in range(repeat):\n",
    "    tem=np.dot(x,w)\n",
    "    loss=tem-y\n",
    "    grad=np.dot(x_t,loss)\n",
    "    s_grad+=grad**2\n",
    "    ada=np.sqrt(s_grad)\n",
    "    w=w-l_rate*grad/ada\n",
    "np.save(\"model.npy\",w)"
   ]
  },
  {
   "cell_type": "code",
   "execution_count": 21,
   "metadata": {},
   "outputs": [],
   "source": [
    "#predict\n",
    "test=pd.read_csv(\"test.csv\")\n",
    "t=test[test[\"AMB_TEMP\"]==\"PM2.5\"]\n",
    "t.drop([\"id_0\",\"AMB_TEMP\"],axis=1,inplace=True)\n",
    "t=np.array(t,float)\n",
    "t=np.concatenate((np.ones((t.shape[0],1)),t), axis=1)\n",
    "res=[]\n",
    "res=np.dot(t,w)"
   ]
  },
  {
   "cell_type": "code",
   "execution_count": 26,
   "metadata": {},
   "outputs": [
    {
     "name": "stdout",
     "output_type": "stream",
     "text": [
      "6.661989858250894\n",
      "0.9094479322936716\n"
     ]
    }
   ],
   "source": [
    "#error\n",
    "ans = pd.read_csv('answer.csv')\n",
    "ans.drop([\"id\"],axis=1,inplace=True)\n",
    "ans=np.array(ans,float)\n",
    "sum=0\n",
    "for i in range(len(res)):\n",
    "       sum=sum+(ans[i]-res[i])*(ans[i]-res[i])\n",
    "print(math.sqrt(sum/len(res)))\n",
    "print(r2_score(ans,res))"
   ]
  },
  {
   "cell_type": "code",
   "execution_count": null,
   "metadata": {},
   "outputs": [],
   "source": []
  }
 ],
 "metadata": {
  "kernelspec": {
   "display_name": "Python 3",
   "language": "python",
   "name": "python3"
  },
  "language_info": {
   "codemirror_mode": {
    "name": "ipython",
    "version": 3
   },
   "file_extension": ".py",
   "mimetype": "text/x-python",
   "name": "python",
   "nbconvert_exporter": "python",
   "pygments_lexer": "ipython3",
   "version": "3.7.1"
  }
 },
 "nbformat": 4,
 "nbformat_minor": 2
}
